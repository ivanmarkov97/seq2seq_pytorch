{
  "nbformat": 4,
  "nbformat_minor": 0,
  "metadata": {
    "accelerator": "GPU",
    "colab": {
      "name": "simple_seq2seq.ipynb",
      "provenance": []
    },
    "kernelspec": {
      "display_name": "Python 3",
      "name": "python3"
    }
  },
  "cells": [
    {
      "cell_type": "code",
      "metadata": {
        "id": "o8g_vyLnfQeG"
      },
      "source": [
        "import os\r\n",
        "import random\r\n",
        "import numpy as np\r\n",
        "\r\n",
        "import functools\r\n",
        "\r\n",
        "import torch\r\n",
        "import torch.nn as nn\r\n",
        "\r\n",
        "from torchtext import datasets\r\n",
        "from torchtext.data import Field\r\n",
        "from torchtext.data import BucketIterator\r\n",
        "\r\n",
        "\r\n",
        "SEED = 241"
      ],
      "execution_count": 1,
      "outputs": []
    },
    {
      "cell_type": "code",
      "metadata": {
        "id": "HdUFOgh2faHV"
      },
      "source": [
        "def seed_everything(seed):\r\n",
        "  random.seed(seed)\r\n",
        "  np.random.seed(seed)\r\n",
        "  torch.manual_seed(seed)\r\n",
        "  os.environ['PYTHONHASHSEED'] = str(seed)\r\n",
        "\r\n",
        "  if torch.cuda.is_available(): \r\n",
        "    torch.cuda.manual_seed(seed)\r\n",
        "    torch.cuda.manual_seed_all(seed)\r\n",
        "    torch.backends.cudnn.deterministic = True\r\n",
        "    torch.backends.cudnn.benchmark = True\r\n",
        "\r\n",
        "seed_everything(SEED)"
      ],
      "execution_count": 2,
      "outputs": []
    },
    {
      "cell_type": "code",
      "metadata": {
        "colab": {
          "base_uri": "https://localhost:8080/"
        },
        "id": "Wh7jOdCcfaVM",
        "outputId": "c5ed6f87-4a2f-4198-e83a-51006b1a4169"
      },
      "source": [
        "import spacy\r\n",
        "\r\n",
        "!python -m spacy download de --quiet\r\n",
        "!python -m spacy download en --quiet\r\n",
        "\r\n",
        "spacy_de = spacy.load('de')\r\n",
        "spacy_en = spacy.load('en')"
      ],
      "execution_count": 3,
      "outputs": [
        {
          "output_type": "stream",
          "text": [
            "\u001b[K     |████████████████████████████████| 14.9MB 3.4MB/s \n",
            "\u001b[?25h  Building wheel for de-core-news-sm (setup.py) ... \u001b[?25l\u001b[?25hdone\n",
            "\u001b[38;5;2m✔ Download and installation successful\u001b[0m\n",
            "You can now load the model via spacy.load('de_core_news_sm')\n",
            "\u001b[38;5;2m✔ Linking successful\u001b[0m\n",
            "/usr/local/lib/python3.6/dist-packages/de_core_news_sm -->\n",
            "/usr/local/lib/python3.6/dist-packages/spacy/data/de\n",
            "You can now load the model via spacy.load('de')\n",
            "\u001b[38;5;2m✔ Download and installation successful\u001b[0m\n",
            "You can now load the model via spacy.load('en_core_web_sm')\n",
            "\u001b[38;5;2m✔ Linking successful\u001b[0m\n",
            "/usr/local/lib/python3.6/dist-packages/en_core_web_sm -->\n",
            "/usr/local/lib/python3.6/dist-packages/spacy/data/en\n",
            "You can now load the model via spacy.load('en')\n"
          ],
          "name": "stdout"
        }
      ]
    },
    {
      "cell_type": "code",
      "metadata": {
        "id": "tIz6yH-RjDhc"
      },
      "source": [
        "def tokenize_de(text):\r\n",
        "  return [token.text for token in spacy_de.tokenizer(text)][::-1]\r\n",
        "\r\n",
        "def tokenize_en(text):\r\n",
        "  return [token.text for token in spacy_en.tokenizer(text)]"
      ],
      "execution_count": 4,
      "outputs": []
    },
    {
      "cell_type": "code",
      "metadata": {
        "id": "o_fOBAepjhUx"
      },
      "source": [
        "SRC = Field(lower=True,\r\n",
        "            use_vocab=True, \r\n",
        "            sequential=True, \r\n",
        "            init_token='<sos>',\r\n",
        "            eos_token='<eos>',\r\n",
        "            batch_first=True,\r\n",
        "            include_lengths=True,\r\n",
        "            tokenize=tokenize_de)\r\n",
        "\r\n",
        "TRG = Field(lower=True, \r\n",
        "            use_vocab=True,\r\n",
        "            sequential=True,\r\n",
        "            init_token='<sos>',\r\n",
        "            eos_token='<eos>',\r\n",
        "            batch_first=True,\r\n",
        "            include_lengths=True,\r\n",
        "            tokenize=tokenize_en)"
      ],
      "execution_count": 5,
      "outputs": []
    },
    {
      "cell_type": "code",
      "metadata": {
        "colab": {
          "base_uri": "https://localhost:8080/"
        },
        "id": "9bfgXRm2kiBh",
        "outputId": "bb4e8fe2-1a01-4d3f-ed5a-ebcacdfd1f11"
      },
      "source": [
        "train_data, valid_data, test_data = datasets.Multi30k.splits(exts=('.de', '.en'),\r\n",
        "                                                             fields=[('de', SRC), ('en', TRG)])"
      ],
      "execution_count": 6,
      "outputs": [
        {
          "output_type": "stream",
          "text": [
            "downloading training.tar.gz\n"
          ],
          "name": "stdout"
        },
        {
          "output_type": "stream",
          "text": [
            "training.tar.gz: 100%|██████████| 1.21M/1.21M [00:01<00:00, 1.02MB/s]\n"
          ],
          "name": "stderr"
        },
        {
          "output_type": "stream",
          "text": [
            "downloading validation.tar.gz\n"
          ],
          "name": "stdout"
        },
        {
          "output_type": "stream",
          "text": [
            "validation.tar.gz: 100%|██████████| 46.3k/46.3k [00:00<00:00, 267kB/s]\n"
          ],
          "name": "stderr"
        },
        {
          "output_type": "stream",
          "text": [
            "downloading mmt_task1_test2016.tar.gz\n"
          ],
          "name": "stdout"
        },
        {
          "output_type": "stream",
          "text": [
            "mmt_task1_test2016.tar.gz: 100%|██████████| 66.2k/66.2k [00:00<00:00, 258kB/s]\n"
          ],
          "name": "stderr"
        }
      ]
    },
    {
      "cell_type": "code",
      "metadata": {
        "id": "Ug2KR7TFnrwC"
      },
      "source": [
        "SRC.build_vocab(train_data)\r\n",
        "TRG.build_vocab(train_data)"
      ],
      "execution_count": 7,
      "outputs": []
    },
    {
      "cell_type": "code",
      "metadata": {
        "id": "xLW8RVqfmwU2"
      },
      "source": [
        "batch_size = 32\r\n",
        "device = torch.device('cuda' if torch.cuda.is_available() else 'cpu')\r\n",
        "\r\n",
        "\r\n",
        "train_iterator = BucketIterator.splits((train_data,), batch_size=batch_size, device=device)[0]\r\n",
        "valid_iterator = BucketIterator.splits((valid_data,), batch_size=batch_size, device=device)[0]\r\n",
        "test_iterator = BucketIterator.splits((test_data,), batch_size=batch_size, device=device)[0]"
      ],
      "execution_count": 8,
      "outputs": []
    },
    {
      "cell_type": "code",
      "metadata": {
        "id": "mt4Oqv9_xGw9"
      },
      "source": [
        "class Config:\r\n",
        "  def __init__(self,\r\n",
        "               vocab_size,\r\n",
        "               emb_size,\r\n",
        "               hidden_size,\r\n",
        "               num_layers, \r\n",
        "               dropout, \r\n",
        "               pad_index,\r\n",
        "               device):\r\n",
        "    self.vocab_size = vocab_size\r\n",
        "    self.emb_size = emb_size\r\n",
        "    self.hidden_size = hidden_size\r\n",
        "    self.num_layers = num_layers\r\n",
        "    self.dropout = dropout\r\n",
        "    self.pad_index = pad_index\r\n",
        "    self.device = device"
      ],
      "execution_count": 9,
      "outputs": []
    },
    {
      "cell_type": "code",
      "metadata": {
        "id": "Ioh9jex9nUTk"
      },
      "source": [
        "class Encoder(nn.Module):\r\n",
        "\r\n",
        "  def __init__(self, config):\r\n",
        "    super().__init__()\r\n",
        "    self.embedding = nn.Embedding(config.vocab_size,\r\n",
        "                                  config.emb_size, \r\n",
        "                                  padding_idx=config.pad_index)\r\n",
        "    self.dropout = nn.Dropout(config.dropout)\r\n",
        "    self.rnn = nn.LSTM(config.emb_size,\r\n",
        "                       config.hidden_size, \r\n",
        "                       config.num_layers, \r\n",
        "                       batch_first=True, \r\n",
        "                       dropout=config.dropout)\r\n",
        "    self.device = config.device\r\n",
        "\r\n",
        "  def forward(self, text, text_lens):\r\n",
        "    text_embedded = self.dropout(self.embedding(text))\r\n",
        "    packed_sequence = nn.utils.rnn.pack_padded_sequence(text_embedded, \r\n",
        "                                                        text_lens,\r\n",
        "                                                        batch_first=True, \r\n",
        "                                                        enforce_sorted=False)\r\n",
        "    \r\n",
        "    packed_outputs, (hidden, cell) = self.rnn(packed_sequence)\r\n",
        "    outputs, _ = nn.utils.rnn.pad_packed_sequence(packed_outputs, batch_first=True)\r\n",
        "    # hidden = hidden.permute(1, 0, 2)\r\n",
        "    # cell = cell.permute(1, 0, 2)\r\n",
        "    return hidden, cell"
      ],
      "execution_count": 10,
      "outputs": []
    },
    {
      "cell_type": "code",
      "metadata": {
        "id": "nuQKK8hD2u8h"
      },
      "source": [
        "class Decoder(nn.Module):\r\n",
        "\r\n",
        "  def __init__(self, config):\r\n",
        "    super().__init__()\r\n",
        "    self.embedding = nn.Embedding(config.vocab_size, \r\n",
        "                                  config.emb_size, \r\n",
        "                                  padding_idx=config.pad_index)\r\n",
        "    self.dropout = nn.Dropout(config.dropout)\r\n",
        "    self.rnn = nn.LSTM(config.emb_size,\r\n",
        "                       config.hidden_size,\r\n",
        "                       config.num_layers,\r\n",
        "                       batch_first=True, \r\n",
        "                       dropout=config.dropout)\r\n",
        "    self.device = config.device\r\n",
        "    self.output_dim = config.vocab_size\r\n",
        "    self.output = nn.Linear(config.hidden_size, config.vocab_size)\r\n",
        "\r\n",
        "  def forward(self, trg_input, hidden, cell):\r\n",
        "    trg_input = trg_input.unsqueeze(1)\r\n",
        "    text_embedded = self.dropout(self.embedding(trg_input))\r\n",
        "    outputs, (hidden, cell) = self.rnn(text_embedded, (hidden, cell))\r\n",
        "    outputs = outputs.squeeze(1)\r\n",
        "    return self.output(outputs), hidden, cell"
      ],
      "execution_count": 11,
      "outputs": []
    },
    {
      "cell_type": "code",
      "metadata": {
        "id": "D82oqa7BFCWC"
      },
      "source": [
        "class Seq2Seq(nn.Module):\r\n",
        "\r\n",
        "  def __init__(self, encoder, decoder, device):\r\n",
        "    super().__init__()\r\n",
        "    self.encoder = encoder\r\n",
        "    self.decoder = decoder\r\n",
        "    self.device = device\r\n",
        "\r\n",
        "  def forward(self, \r\n",
        "              src_text, \r\n",
        "              src_text_lens,\r\n",
        "              trg_text,\r\n",
        "              trg_text_lens, \r\n",
        "              teacher_forcing_ratio=0.5):\r\n",
        "    batch_size = src_text.size(0)\r\n",
        "    max_trg_seq_len = trg_text.size(1)\r\n",
        "    trg_vocab_size = self.decoder.output_dim\r\n",
        "\r\n",
        "    outputs = torch.zeros(batch_size, max_trg_seq_len, trg_vocab_size, device=self.device)\r\n",
        "    \r\n",
        "    hidden, cell = self.encoder(src_text, src_text_lens)\r\n",
        "    trg_input = trg_text[:, 0]\r\n",
        "\r\n",
        "    for t in range(1, max_trg_seq_len):\r\n",
        "      \r\n",
        "      dec_output, hidden, cell = self.decoder(trg_input, hidden, cell)\r\n",
        "      outputs[:, t, :] = dec_output\r\n",
        "\r\n",
        "      teacher_force = random.random() < teacher_forcing_ratio\r\n",
        "\r\n",
        "      top1 = dec_output.argmax(dim=1)\r\n",
        "      trg_input = trg_text[:, t] if teacher_force else top1\r\n",
        "      \r\n",
        "    return outputs"
      ],
      "execution_count": 12,
      "outputs": []
    },
    {
      "cell_type": "code",
      "metadata": {
        "id": "XfFnPI_oyc-x"
      },
      "source": [
        "encoder_config = Config(vocab_size=len(SRC.vocab),\r\n",
        "                        emb_size=512,\r\n",
        "                        hidden_size=256,\r\n",
        "                        num_layers=2,\r\n",
        "                        dropout=0.3,\r\n",
        "                        pad_index=SRC.vocab.stoi[SRC.pad_token],\r\n",
        "                        device=device)\r\n",
        "\r\n",
        "decoder_config = Config(vocab_size=len(TRG.vocab),\r\n",
        "                        emb_size=512,\r\n",
        "                        hidden_size=256,\r\n",
        "                        num_layers=2,\r\n",
        "                        dropout=0.3,\r\n",
        "                        pad_index=TRG.vocab.stoi[TRG.pad_token],\r\n",
        "                        device=device)\r\n",
        "\r\n",
        "encoder = Encoder(encoder_config)\r\n",
        "decoder = Decoder(decoder_config)\r\n",
        "seq2seq = Seq2Seq(encoder, decoder, device).to(device)\r\n",
        "\r\n",
        "criterion = nn.CrossEntropyLoss(ignore_index=decoder_config.pad_index).to(device)\r\n",
        "optimizer = torch.optim.Adam(seq2seq.parameters())"
      ],
      "execution_count": 13,
      "outputs": []
    },
    {
      "cell_type": "code",
      "metadata": {
        "id": "a8dv7CW5NvGn"
      },
      "source": [
        "def train_epoch(model, iterator, optimizer, criterion):\r\n",
        "  model.train()\r\n",
        "\r\n",
        "  error = 0.\r\n",
        "  for batch in iterator:\r\n",
        "    optimizer.zero_grad()\r\n",
        "    \r\n",
        "    src_text, src_text_lens = batch.de\r\n",
        "    src_text_lens = src_text_lens.cpu()\r\n",
        "    trg_text, trg_text_lens = batch.en\r\n",
        "    trg_text_lens = trg_text_lens.cpu()\r\n",
        "\r\n",
        "    outputs = seq2seq(src_text, src_text_lens, trg_text, trg_text_lens)\r\n",
        "\r\n",
        "    outputs = outputs[:, 1:, :]\r\n",
        "    trg_text = trg_text[:, 1:]\r\n",
        "\r\n",
        "    # outputs = outputs.contiguous()\r\n",
        "    # trg_text = trg_text.contiguous()\r\n",
        "\r\n",
        "    batch_size, seq_len, output_dim = outputs.shape\r\n",
        "\r\n",
        "    outputs = outputs.reshape(batch_size * seq_len, output_dim)\r\n",
        "    trg_text = trg_text.reshape(-1)\r\n",
        "\r\n",
        "    loss = criterion(outputs, trg_text)\r\n",
        "    loss.backward()\r\n",
        "    optimizer.step()\r\n",
        "\r\n",
        "    torch.nn.utils.clip_grad_norm_(model.parameters(), 1.0)\r\n",
        "\r\n",
        "    error += loss.detach().cpu().numpy()\r\n",
        "\r\n",
        "  return error / len(iterator)\r\n",
        "\r\n",
        "\r\n",
        "def valid_epoch(model, iterator, criterion):\r\n",
        "  model.eval()\r\n",
        "\r\n",
        "  error = 0.\r\n",
        "  with torch.no_grad():\r\n",
        "    for batch in iterator:\r\n",
        "      \r\n",
        "      src_text, src_text_lens = batch.de\r\n",
        "      src_text_lens = src_text_lens.cpu()\r\n",
        "      trg_text, trg_text_lens = batch.en\r\n",
        "      trg_text_lens = trg_text_lens.cpu()\r\n",
        "\r\n",
        "      outputs = seq2seq(src_text, src_text_lens, trg_text, trg_text_lens)\r\n",
        "\r\n",
        "      outputs = outputs[:, 1:, :]\r\n",
        "      trg_text = trg_text[:, 1:]\r\n",
        "\r\n",
        "      # outputs = outputs.contiguous()\r\n",
        "      # trg_text = trg_text.contiguous()\r\n",
        "\r\n",
        "      batch_size, seq_len, output_dim = outputs.shape\r\n",
        "\r\n",
        "      outputs = outputs.reshape(batch_size * seq_len, output_dim)\r\n",
        "      trg_text = trg_text.reshape(-1)\r\n",
        "\r\n",
        "      loss = criterion(outputs, trg_text)\r\n",
        "\r\n",
        "      error += loss.detach().cpu().numpy()\r\n",
        "\r\n",
        "  return error / len(iterator)"
      ],
      "execution_count": 14,
      "outputs": []
    },
    {
      "cell_type": "code",
      "metadata": {
        "colab": {
          "base_uri": "https://localhost:8080/"
        },
        "id": "6ffIQFh3yUd4",
        "outputId": "50ab4ca5-ad25-4fb1-c875-7cc7f81fbd1d"
      },
      "source": [
        "for i in range(15):\r\n",
        "  train_error = train_epoch(seq2seq, train_iterator, optimizer, criterion)\r\n",
        "  valid_error = valid_epoch(seq2seq, valid_iterator, criterion)\r\n",
        "  print(f'Epoch: {i + 1}, Train Error: {train_error}, Valid Error {valid_error}')"
      ],
      "execution_count": 15,
      "outputs": [
        {
          "output_type": "stream",
          "text": [
            "Epoch: 1, Train Error: 4.600419607551516, Valid Error 3.956821009516716\n",
            "Epoch: 2, Train Error: 3.835227196902661, Valid Error 3.678058870136738\n",
            "Epoch: 3, Train Error: 3.5293373980096314, Valid Error 3.476690746843815\n",
            "Epoch: 4, Train Error: 3.3301586492321853, Valid Error 3.347179137170315\n",
            "Epoch: 5, Train Error: 3.164411359217096, Valid Error 3.313545249402523\n",
            "Epoch: 6, Train Error: 3.027661863209263, Valid Error 3.1964599937200546\n",
            "Epoch: 7, Train Error: 2.911147862048501, Valid Error 3.1830659583210945\n",
            "Epoch: 8, Train Error: 2.8123396578539563, Valid Error 3.1906793415546417\n",
            "Epoch: 9, Train Error: 2.72774759174839, Valid Error 3.1143994107842445\n",
            "Epoch: 10, Train Error: 2.6405388830515095, Valid Error 3.1161623001098633\n",
            "Epoch: 11, Train Error: 2.577104933338102, Valid Error 3.115902528166771\n",
            "Epoch: 12, Train Error: 2.495716616494916, Valid Error 3.16264209151268\n",
            "Epoch: 13, Train Error: 2.4386067537646308, Valid Error 3.1543151289224625\n",
            "Epoch: 14, Train Error: 2.3780244065750527, Valid Error 3.1753041595220566\n",
            "Epoch: 15, Train Error: 2.325103696546586, Valid Error 3.097777359187603\n"
          ],
          "name": "stdout"
        }
      ]
    },
    {
      "cell_type": "code",
      "metadata": {
        "id": "yQt1YDp8h-Rf"
      },
      "source": [
        "def translate_sentence(sentence, model, SRC, TRG, tokenizer, device, max_len=50):\r\n",
        "  tokens = tokenizer(sentence)\r\n",
        "  tokens = [SRC.init_token] + tokens + [TRG.eos_token]\r\n",
        "  sentence_len = torch.LongTensor([len(tokens)])\r\n",
        "  tokens_ids = [SRC.vocab.stoi[token] for token in tokens]\r\n",
        "  token_tensor = torch.LongTensor([tokens_ids]).to(device)\r\n",
        "  decoder_input = torch.LongTensor([TRG.vocab.stoi[TRG.init_token]]).to(device)\r\n",
        "\r\n",
        "  pred_tokens = [TRG.vocab.stoi[TRG.init_token]]\r\n",
        "\r\n",
        "  encoder = model.encoder\r\n",
        "  decoder = model.decoder\r\n",
        "\r\n",
        "  with torch.no_grad():\r\n",
        "    hidden, cell = encoder(token_tensor, sentence_len)\r\n",
        "\r\n",
        "  curr_len = 0\r\n",
        "  while pred_tokens[-1] != TRG.vocab.stoi[TRG.eos_token] and pred_tokens[-1] != TRG.vocab.stoi['.'] and curr_len < max_len:\r\n",
        "    with torch.no_grad():\r\n",
        "      prediction, hidden, cell = decoder(decoder_input, hidden, cell)\r\n",
        "    prediction = prediction.detach().cpu().numpy()\r\n",
        "    pred_token_idx = np.argmax(prediction[0])\r\n",
        "    pred_tokens.append(pred_token_idx)\r\n",
        "    curr_len += 1\r\n",
        "  result = ' '.join([TRG.vocab.itos[token] for token in pred_tokens[1:]])\r\n",
        "  return result"
      ],
      "execution_count": 62,
      "outputs": []
    },
    {
      "cell_type": "code",
      "metadata": {
        "id": "hGildJmkm9Vq",
        "colab": {
          "base_uri": "https://localhost:8080/"
        },
        "outputId": "4ba24f91-b892-4417-8142-e76798a284b8"
      },
      "source": [
        "print(translate_sentence('ein schwarzer hund und ein gefleckter hund kämpfen .', seq2seq, SRC, TRG, tokenize_de, device))"
      ],
      "execution_count": 69,
      "outputs": [
        {
          "output_type": "stream",
          "text": [
            "a black black dog dog dog dog dog dog .\n"
          ],
          "name": "stdout"
        }
      ]
    },
    {
      "cell_type": "code",
      "metadata": {
        "id": "SA1-iY_DjQNm"
      },
      "source": [
        ""
      ],
      "execution_count": null,
      "outputs": []
    }
  ]
}